{
 "cells": [
  {
   "cell_type": "markdown",
   "metadata": {},
   "source": [
    "# CSV dialect detection with CleverCSV\n",
    "\n",
    "**Author**: G.J.J. van den Burg <gvandenburg@turing.ac.uk>\n",
    "\n",
    "In this note we'll show some examples of using CleverCSV, a package for handling \n",
    "messy CSV files. \n",
    "\n",
    "We'll compare CleverCSV to the built-in Python CSV module and show how this is not as robust as CleverCSV on some examples. The examples will mainly show files where the built-in Python CSV module fails to detect the dialect correctly. These files are of course selected for this tutorial, because it wouldn't be very interesting to show files where both methods are correct. For more details on the science behind CleverCSV and a complete and fair comparison to other CSV packages, see the [paper](https://arxiv.org/abs/1811.11242). On a dataset of over 9300 files CleverCSV achieves 97% accuracy on average, with a 21% improvement on messy files compared to the Python CSV Sniffer.\n",
    "\n",
    "The example CSV files all come from MIT-licensed GitHub repositories.\n",
    "\n",
    "## Installation\n",
    "First, download and install the development version of CleverCSV:\n",
    "```\n",
    "$ virtualenv ./clevercsv\n",
    "$ cd ./clevercsv && . bin/activate\n",
    "$ pip install poetry requests\n",
    "$ git clone https://github.com/alan-turing-institute/CleverCSV\n",
    "$ cd CleverCSV/python\n",
    "$ poetry install\n",
    "$ cd ../../../\n",
    "```\n",
    "\n",
    "If you want to follow along, I'll assume that you run this notebook in a location where the ``ccsv`` and ``requests`` modules are on the Python path."
   ]
  },
  {
   "cell_type": "markdown",
   "metadata": {},
   "source": [
    "## Setting up"
   ]
  },
  {
   "cell_type": "code",
   "execution_count": 2,
   "metadata": {},
   "outputs": [],
   "source": [
    "import csv\n",
    "import ccsv\n",
    "import io\n",
    "import requests\n",
    "\n",
    "def page(url):\n",
    "    \"\"\" Get the content of a webpage using requests, assuming UTF-8 encoding \"\"\"\n",
    "    page = requests.get(url)\n",
    "    content = page.content.decode('utf-8')\n",
    "    return content\n",
    "\n",
    "def head(content, num=10):\n",
    "    \"\"\" Preview a CSV file \"\"\"\n",
    "    print('--- File Preview ---')\n",
    "    for i, line in enumerate(io.StringIO(content, newline=None)):\n",
    "        print(line, end='')\n",
    "        if i == num - 1:\n",
    "            break\n",
    "    print('\\n---')\n",
    "    \n",
    "def sniff_url(content):\n",
    "    \"\"\" Utility to run the python Sniffer on a CSV file at a URL \"\"\"\n",
    "    try:\n",
    "        dialect = csv.Sniffer().sniff(content)\n",
    "        print(\"CSV Sniffer detected: delimiter = %r, quotechar = %r\" % (dialect.delimiter,\n",
    "                                                                        dialect.quotechar))\n",
    "    except csv.Error:\n",
    "        print(\"No result from the Python CSV Sniffer\")\n",
    "\n",
    "def detect_url(content, verbose=True):\n",
    "    \"\"\" Utility to run the CleverCSV detector on a CSV file at a URL \"\"\"\n",
    "    # We have designed CleverCSV to be a drop-in replacement for the CSV module\n",
    "    try:\n",
    "        dialect = ccsv.Sniffer().sniff(content, verbose=verbose)\n",
    "        print(\"CleverCSV detected: delimiter = %r, quotechar = %r\" % (dialect.delimiter, \n",
    "                                                                      dialect.quotechar))\n",
    "    except ccsv.Error:\n",
    "        print(\"No result from CleverCSV\")\n",
    "        \n",
    "def test(url, verbose=False, n_preview=10):\n",
    "    content = page(url)\n",
    "    head(content, num=n_preview)\n",
    "    print(\"\\nRunning Python Sniffer\")\n",
    "    sniff_url(content)\n",
    "    print(\"\\nRunning CleverCSV:\")\n",
    "    detect_url(content, verbose=verbose)"
   ]
  },
  {
   "cell_type": "markdown",
   "metadata": {},
   "source": [
    "## Example 1: No output from Python Sniffer\n",
    "\n",
    "The first file we'll look at is a simple CSV file that uses the semicolon as delimiter. "
   ]
  },
  {
   "cell_type": "code",
   "execution_count": 3,
   "metadata": {},
   "outputs": [
    {
     "name": "stdout",
     "output_type": "stream",
     "text": [
      "--- File Preview ---\n",
      "log(E);de_log(E);dede_log(E);cepstrum;de_cepstrum;dede_cepstrum\n",
      "0.27;1.77;4.97;0.1;0.61;1.75;\n",
      "1.75;1.25;1.00;1.25;0.50;0.25;\n",
      "---\n",
      "\n",
      "Running Python Sniffer\n",
      "No result from the Python CSV Sniffer\n",
      "\n",
      "Running CleverCSV:\n",
      "CleverCSV detected: delimiter = ';', quotechar = ''\n"
     ]
    }
   ],
   "source": [
    "test(\"https://raw.githubusercontent.com/grezesf/Research/17b1e829d1d4b8954661270bd8b099e74bb45ce7/Reservoirs/Task0_Replication/code/preprocessing/factors.csv\")"
   ]
  },
  {
   "cell_type": "markdown",
   "metadata": {},
   "source": [
    "As we can see, the Python CSV sniffer fails on this one, even though the formatting doesn't seem to be that uncommon. CleverCSV handles this file correctly.\n",
    "\n",
    "## Example 2: Incorrect output from Python Sniffer\n",
    "\n",
    "The next example is quite a long file with a lot of potential delimiters. In total, CleverCSV considers 180 different dialects on this file and determines the best dialect by computing a pattern score and a type score. The pattern score is related to how many cells we have per row given a certain dialect, and the type score reflects whether the cells in the parsed file have known data types (such as integer, date, string, etc.). \n",
    "\n",
    "If you want to see the output of CleverCSV while it runs the detection, you can set ``verbose=True`` in the next line."
   ]
  },
  {
   "cell_type": "code",
   "execution_count": 4,
   "metadata": {
    "scrolled": false
   },
   "outputs": [
    {
     "name": "stdout",
     "output_type": "stream",
     "text": [
      "--- File Preview ---\n",
      "name,price,state\n",
      "NOWY DOTYKOWY LG T375 Wi-Fi DUAL SIM + GRATISY FV,238.0,new\n",
      "NOWY SAMSUNG GALAXY NOTE 2 N7100 WHITE FV 23%,1799.0,new\n",
      "NOKIA 3510 12miesięcy  GWARANCJI   Dostawa 24h,79.0,new\n",
      "NOKIA 206 DUAL SIM GWAR. 2 LATA FV23% OKAZJA!,199.0,new\n",
      "SAMSUNG B2100i SOLID BEZ SIML. +ETUI 24GW PL FV23%,298.0,new\n",
      "Polski SAMSUNG S5300 GALAXY POCKET Gwar 24M-ce,318.0,new\n",
      "Polski SAMSUNG S5610 Gwar 24M-ce KRAKÓW 5Mpx Foto,298.0,new\n",
      "BIAŁY SAMSUNG I8190 GALAXY S III Mini Gwar 24M-ce,898.0,new\n",
      "= SONY XPERIA E C1505 White/Biały!!! Wrocław =,475.0,new\n",
      "\n",
      "---\n",
      "\n",
      "Running Python Sniffer\n",
      "CSV Sniffer detected: delimiter = '!', quotechar = '\"'\n",
      "\n",
      "Running CleverCSV:\n",
      "CleverCSV detected: delimiter = ',', quotechar = '\"'\n"
     ]
    }
   ],
   "source": [
    "test(\"https://raw.githubusercontent.com/agh-glk/pyconpl2013-nlp/37f6f50a45fc31c1a5ad25010fff681a8ce645b8/gsm.csv\", verbose=False)"
   ]
  },
  {
   "cell_type": "markdown",
   "metadata": {},
   "source": [
    "Note that CleverCSV is a bit slower than the Python Sniffer. This is the focus of our ongoing development efforts and is also affected by running Python through Jupyter. But let's not forget that at least CleverCSV is correct!\n",
    "\n",
    "## Conclusion\n",
    "\n",
    "Below are some more examples, but I think you'll get the idea by now. CleverCSV is much more robust against messy CSV files and is an easy to use drop-in replacement for the Python csv module. Just replace ``import csv`` by ``import ccsv`` in your code!\n",
    "\n",
    "We're still working on adding some more features to CleverCSV and speeding up and improving the dialect detection algorithm. One of the novel features that we added is a ``clevercsv`` command line executable with the following commands:\n",
    "\n",
    "- ``detect`` to run dialect detection directly from the command line\n",
    "- ``view`` to open a CSV file in a table viewer after automatic detection of the dialect\n",
    "- ``standardize`` to convert a CSV file in a messy format to the standard CSV format\n",
    "\n",
    "We hope you find CleverCSV useful! If you encounter any issues or files where CleverCSV fails, please leave a comment on GitHub.\n",
    "\n",
    "## Further Examples"
   ]
  },
  {
   "cell_type": "code",
   "execution_count": 5,
   "metadata": {},
   "outputs": [
    {
     "name": "stdout",
     "output_type": "stream",
     "text": [
      "--- File Preview ---\n",
      "#Release 14.4 - par P.49d (lin)\n",
      "#Copyright (c) 1995-2012 Xilinx, Inc.  All rights reserved.\n",
      "\n",
      "#Thu Jun 20 07:23:42 2013\n",
      "\n",
      "#\n",
      "## NOTE: This file is designed to be imported into a spreadsheet program\n",
      "# such as Microsoft Excel for viewing, printing and sorting. The |\n",
      "# character is used as the data field separator. This file is also designed\n",
      "# to support parsing.\n",
      "#\n",
      "#INPUT FILE:       project.ncd\n",
      "#OUTPUT FILE:      project_r_pad.csv\n",
      "#PART TYPE:        xc3s500e\n",
      "#SPEED GRADE:      -5\n",
      "#PACKAGE:          fg320\n",
      "#\n",
      "# Pinout by Pin Number:\n",
      "# \n",
      "# -----,-----,-----,-----,-----,-----,-----,-----,-----,-----,-----,-----,-----,-----,-----,\n",
      "\n",
      "---\n",
      "\n",
      "Running Python Sniffer\n",
      "No result from the Python CSV Sniffer\n",
      "\n",
      "Running CleverCSV:\n",
      "CleverCSV detected: delimiter = ',', quotechar = ''\n"
     ]
    }
   ],
   "source": [
    "# No result from Python (note that this file says it uses \"|\" as separator, but actually uses \",\"!)\n",
    "test(\"https://raw.githubusercontent.com/queq/just-stuff/c1b8714664cc674e1fc685bd957eac548d636a43/pov/TopFixed/build/project_r_pad.csv\", n_preview=20)"
   ]
  },
  {
   "cell_type": "code",
   "execution_count": 6,
   "metadata": {},
   "outputs": [
    {
     "name": "stdout",
     "output_type": "stream",
     "text": [
      "--- File Preview ---\n",
      "2013/12/12 23:20 UPDATE\n",
      "ピーク時供給力(万kW),時間帯,供給力情報更新日,供給力情報更新時刻\n",
      "4849,17:00〜18:00,12/12,8:30\n",
      "\n",
      "予想最大電力(万kW),時間帯,予想最大電力情報更新日,予想最大電力情報更新時刻\n",
      "4210,17:00〜18:00,12/12,8:30\n",
      "\n",
      "DATE,TIME,当日実績(万kW),予測値（万kW)\n",
      "2013/12/12,0:00,3098,0\n",
      "2013/12/12,1:00,2948,0\n",
      "\n",
      "---\n",
      "\n",
      "Running Python Sniffer\n",
      "CSV Sniffer detected: delimiter = '\\r', quotechar = '\"'\n",
      "\n",
      "Running CleverCSV:\n",
      "CleverCSV detected: delimiter = ',', quotechar = ''\n"
     ]
    }
   ],
   "source": [
    "# Python says '\\r' (carriage return) is the delimiter!\n",
    "test(\"https://raw.githubusercontent.com/HAYASAKA-Ryosuke/TodenGraphDay/8f052219d037edabebd488e5f6dc2ddbe8367dc1/juyo-j.csv\")"
   ]
  },
  {
   "cell_type": "code",
   "execution_count": 7,
   "metadata": {},
   "outputs": [
    {
     "name": "stdout",
     "output_type": "stream",
     "text": [
      "--- File Preview ---\n",
      "// comment\n",
      " // another comment\n",
      "\n",
      "~test_name,row_name,col1,col2\n",
      "row1,r1c1,r1c2\n",
      "row2,r2c1,r2c2\n",
      "---\n",
      "\n",
      "Running Python Sniffer\n",
      "No result from the Python CSV Sniffer\n",
      "\n",
      "Running CleverCSV:\n",
      "CleverCSV detected: delimiter = ',', quotechar = ''\n"
     ]
    }
   ],
   "source": [
    "# No result from Python csv\n",
    "test(\"https://raw.githubusercontent.com/philipmcg/minecraft-service-windows/774892ff0c27a76b6db20ba3750149c19b7a3351/MinecraftService/MinecraftService/gcsv_sample.csv\")"
   ]
  },
  {
   "cell_type": "code",
   "execution_count": 8,
   "metadata": {},
   "outputs": [
    {
     "name": "stdout",
     "output_type": "stream",
     "text": [
      "--- File Preview ---\n",
      "c-api/arg,,:ref,\"PyArg_ParseTuple(args, \"\"O|O:ref\"\", &object, &callback)\"\n",
      "c-api/list,,:high,list[low:high]\n",
      "c-api/sequence,,:i2,del o[i1:i2]\n",
      "c-api/sequence,,:i2,o[i1:i2]\n",
      "c-api/unicode,,:end,str[start:end]\n",
      "c-api/unicode,,:start,unicode[start:start+length]\n",
      "distutils/examples,267,`,This is the description of the ``foobar`` package.\n",
      "distutils/setupscript,,::,\n",
      "extending/embedding,,:numargs,\"if(!PyArg_ParseTuple(args, \"\":numargs\"\"))\"\n",
      "extending/extending,,:myfunction,\"PyArg_ParseTuple(args, \"\"D:myfunction\"\", &c);\"\n",
      "\n",
      "---\n",
      "\n",
      "Running Python Sniffer\n",
      "CSV Sniffer detected: delimiter = ' ', quotechar = '\"'\n",
      "\n",
      "Running CleverCSV:\n",
      "CleverCSV detected: delimiter = ',', quotechar = '\"'\n"
     ]
    }
   ],
   "source": [
    "# Incorrect delimiter from Python csv\n",
    "test(\"https://raw.githubusercontent.com/OptimusGitEtna/RestSymf/635e4ad8a288cde64b306126c986213de71a4f4a/Python-3.4.2/Doc/tools/sphinxext/susp-ignored.csv\")"
   ]
  }
 ],
 "metadata": {
  "kernelspec": {
   "display_name": "Python 3",
   "language": "python",
   "name": "python3"
  },
  "language_info": {
   "codemirror_mode": {
    "name": "ipython",
    "version": 3
   },
   "file_extension": ".py",
   "mimetype": "text/x-python",
   "name": "python",
   "nbconvert_exporter": "python",
   "pygments_lexer": "ipython3",
   "version": "3.7.3"
  }
 },
 "nbformat": 4,
 "nbformat_minor": 2
}
